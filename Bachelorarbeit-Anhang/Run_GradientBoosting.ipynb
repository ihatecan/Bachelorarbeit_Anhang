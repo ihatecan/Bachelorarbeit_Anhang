{
  "cells": [
    {
      "cell_type": "code",
      "source": [
        "from azureml.core import Workspace\r\n",
        "from azureml.core import Experiment\r\n",
        "from azureml.core import Environment\r\n",
        "from azureml.core import ScriptRunConfig\r\n",
        "from azureml.core import Dataset\r\n",
        "from azureml.train.hyperdrive import RandomParameterSampling, HyperDriveConfig, PrimaryMetricGoal, choice\r\n",
        "\r\n",
        "\r\n",
        "ws = Workspace.from_config()\r\n",
        "datastore = ws.get_default_datastore()\r\n",
        "experiment = Experiment(workspace=ws, name='GradientBoosting')\r\n",
        "\r\n",
        "workspace = Workspace.from_config()\r\n",
        "\r\n",
        "dataset = Dataset.get_by_name(workspace, name='rx20_all_models',version=\"latest\")\r\n",
        "\r\n",
        "config = ScriptRunConfig(\r\n",
        "        source_directory='./src',\r\n",
        "        script='GradientBoosting.py',\r\n",
        "        compute_target='A00238622',\r\n",
        "        arguments=[\r\n",
        "            '--input-data', dataset.as_named_input('rx20_all_models')],\r\n",
        "    )\r\n",
        "\r\n",
        "\r\n",
        "env = Environment.from_conda_specification(\r\n",
        "        name='sklearn-env',\r\n",
        "        file_path='sklearn-env.yml'\r\n",
        "    )\r\n",
        "\r\n",
        "config.run_config.environment = env\r\n",
        "\r\n",
        "run = experiment.submit(config)\r\n",
        "run.display_name = 'GradientBoosting'\r\n",
        "aml_url = run.get_portal_url()\r\n",
        "print(\"Submitted to compute cluster. Click link below\")\r\n",
        "print(\"\")\r\n",
        "print(aml_url)"
      ],
      "outputs": [],
      "execution_count": null,
      "metadata": {
        "gather": {
          "logged": 1651436804784
        }
      }
    }
  ],
  "metadata": {
    "kernelspec": {
      "name": "python38-azureml",
      "language": "python",
      "display_name": "Python 3.8 - AzureML"
    },
    "language_info": {
      "name": "python",
      "version": "3.8.1",
      "mimetype": "text/x-python",
      "codemirror_mode": {
        "name": "ipython",
        "version": 3
      },
      "pygments_lexer": "ipython3",
      "nbconvert_exporter": "python",
      "file_extension": ".py"
    },
    "kernel_info": {
      "name": "python38-azureml"
    },
    "microsoft": {
      "host": {
        "AzureML": {
          "notebookHasBeenCompleted": true
        }
      }
    },
    "nteract": {
      "version": "nteract-front-end@1.0.0"
    }
  },
  "nbformat": 4,
  "nbformat_minor": 2
}