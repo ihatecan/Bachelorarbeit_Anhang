{
  "cells": [
    {
      "cell_type": "code",
      "source": [
        "# azureml-core of version 1.0.72 or higher is required\r\n",
        "# azureml-dataprep[pandas] of version 1.1.34 or higher is required\r\n",
        "from azureml.core import Workspace, Dataset\r\n",
        "from sklearn.model_selection import train_test_split\r\n",
        "from sklearn import preprocessing\r\n",
        "from azureml.core import Workspace, Dataset\r\n",
        "from azureml.core import Run\r\n",
        "import numpy as np\r\n",
        "import pandas as pd\r\n",
        "from sklearn.preprocessing import OneHotEncoder\r\n",
        "from sklearn.pipeline import Pipeline\r\n",
        "from sklearn.ensemble import RandomForestRegressor\r\n",
        "\r\n",
        "subscription_id = 'ac5709b8-dd2b-46e3-98ae-bf53155e0e80'\r\n",
        "resource_group = 'nereva_rg'\r\n",
        "workspace_name = 'e2r2s14mls0004'\r\n",
        "\r\n",
        "workspace = Workspace(subscription_id, resource_group, workspace_name)\r\n",
        "\r\n",
        "dataset = Dataset.get_by_name(workspace, name='rx20_all_models')"
      ],
      "outputs": [],
      "execution_count": 1,
      "metadata": {
        "gather": {
          "logged": 1651572166324
        }
      }
    },
    {
      "cell_type": "code",
      "source": [
        "def calculate_and_log_metrics(data_df, data_name='test'):\r\n",
        "    data_df['error'] = np.abs(data_df.ground_truth - data_df.predicted)/ data_df.ground_truth\r\n",
        "    \r\n",
        "    return data_df\r\n",
        "\r\n",
        "def reduce_feature_values(data_df, column, number_of_feature_values):\r\n",
        "\r\n",
        "   all_features = data_df[column].value_counts().index\r\n",
        "\r\n",
        "   data_df[column] = np.where(data_df[column].isin(all_features[0:min(len(all_features), number_of_feature_values)]), data_df[column], 'other')\r\n",
        "\r\n",
        "   return data_df\r\n",
        "\r\n",
        "\r\n",
        "def one_hot_encode_feature(df, feature_name, feature_list):\r\n",
        "    ohe = OneHotEncoder()\r\n",
        "    transformed = ohe.fit_transform(df[[feature_name]])\r\n",
        "    df[[feature_name + '_' + x for x in ohe.categories_[0]]] = pd.DataFrame(transformed.toarray(),  index=df.index)\r\n",
        "    feature_list += [feature_name + '_' + x for x in ohe.categories_[0]]\r\n",
        "    feature_list = [x for x in feature_list if x != feature_name]\r\n",
        "    feature_list = [x for x in feature_list if x != feature_name+'_encoded']\r\n",
        "    return df, feature_list"
      ],
      "outputs": [],
      "execution_count": 2,
      "metadata": {
        "jupyter": {
          "source_hidden": false,
          "outputs_hidden": false
        },
        "nteract": {
          "transient": {
            "deleting": false
          }
        },
        "gather": {
          "logged": 1651572167412
        }
      }
    },
    {
      "cell_type": "code",
      "source": [
        "data_df = dataset.to_pandas_dataframe()\r\n",
        "\r\n",
        "data_df = data_df[data_df[\"CUSTOMER_TYPE\"] == \"End-Customer\"]\r\n",
        "data_df = data_df[data_df[\"STATUS\"] > 1]\r\n",
        "data_df = data_df[data_df[\"SOLD_PRICE\"] > 100]\r\n",
        "    \r\n",
        "data_df = reduce_feature_values(data_df,column=\"SOLD_COUNTRY\", number_of_feature_values=10)\r\n",
        "\r\n",
        "    \r\n",
        "features = ['OPERATING_HOURS', 'STATUS', 'AGE', 'CONSTRUCTION_YEAR' , \"BLACK_FORX_FLAG\",\"SOLD_COUNTRY\", \"LEASING_FLAG\",\"KEY_ACCOUNT_FLAG\",\"SOLD_PACKAGE_SIZE\",'CAPACITY','WHEEL_QT','MAST_HEIGHT',\"MAST_TYPE\",\"MATERIAL_NR\"]\r\n",
        "\r\n",
        "data_df, features = one_hot_encode_feature(data_df, 'MAST_TYPE', features)\r\n",
        "data_df, features = one_hot_encode_feature(data_df, 'SOLD_COUNTRY', features)\r\n",
        "data_df, features = one_hot_encode_feature(data_df, 'SOLD_PACKAGE_SIZE', features)\r\n",
        "data_df, features = one_hot_encode_feature(data_df, 'MATERIAL_NR', features)\r\n",
        "\r\n",
        "\r\n",
        "features = [x for x in features if x not in ['SOLD_YEAR', 'TRADER_ID', 'CUSTOMER_TYPE_encoded', 'BLACK_FORX_FLAG']]\r\n",
        "\r\n",
        "X_train , X_test , y_train,y_test = train_test_split(data_df,data_df[\"SOLD_PRICE\"],test_size=0.2, random_state=42, stratify=data_df[[\"STATUS\",\"MATERIAL_NR\"]])"
      ],
      "outputs": [],
      "execution_count": 3,
      "metadata": {
        "jupyter": {
          "source_hidden": false,
          "outputs_hidden": false
        },
        "nteract": {
          "transient": {
            "deleting": false
          }
        },
        "gather": {
          "logged": 1651572172720
        }
      }
    },
    {
      "cell_type": "code",
      "source": [
        "X = X_train.groupby('STATUS')['SOLD_PRICE'].mean()\r\n",
        "y = pd.DataFrame()\r\n",
        "y[\"STATUS\"] = X.index\r\n",
        "y[\"predicted\"] = X.values\r\n",
        "\r\n",
        "X_train = X_train.merge(y, on=['STATUS'])\r\n",
        "X_train = X_train.rename(columns={\"SOLD_PRICE\" : \"ground_truth\"})\r\n",
        "X_test = X_test.merge(y, on=['STATUS'])\r\n",
        "X_test = X_test.rename(columns={\"SOLD_PRICE\" : \"ground_truth\"})\r\n",
        "\r\n",
        "X_test = calculate_and_log_metrics(X_test, data_name='test')\r\n",
        "result_baseline = X_test.copy()"
      ],
      "outputs": [],
      "execution_count": 4,
      "metadata": {
        "jupyter": {
          "source_hidden": false,
          "outputs_hidden": false
        },
        "nteract": {
          "transient": {
            "deleting": false
          }
        },
        "gather": {
          "logged": 1651572173821
        }
      }
    },
    {
      "cell_type": "code",
      "source": [
        "from sklearn.linear_model import LinearRegression\r\n",
        "from sklearn.preprocessing import StandardScaler\r\n",
        "from sklearn.pipeline import Pipeline\r\n",
        "\r\n",
        "data_df = reduce_feature_values(data_df=data_df,column=\"SOLD_COUNTRY\",number_of_feature_values = 10)\r\n",
        "\r\n",
        "features = ['OPERATING_HOURS', 'STATUS', 'AGE', 'CONSTRUCTION_YEAR' , \"BLACK_FORX_FLAG\",\"SOLD_COUNTRY\", \"LEASING_FLAG\",\"KEY_ACCOUNT_FLAG\",\"SOLD_PACKAGE_SIZE\",'CAPACITY','WHEEL_QT','MAST_HEIGHT',\"MAST_TYPE\",\"MATERIAL_NR\"]\r\n",
        "\r\n",
        "data_df, features = one_hot_encode_feature(data_df, 'MAST_TYPE', features)\r\n",
        "data_df, features = one_hot_encode_feature(data_df, 'SOLD_COUNTRY', features)\r\n",
        "data_df, features = one_hot_encode_feature(data_df, 'SOLD_PACKAGE_SIZE', features)\r\n",
        "data_df, features = one_hot_encode_feature(data_df, 'MATERIAL_NR', features)\r\n",
        "\r\n",
        "\r\n",
        "features = [x for x in features if x not in ['SOLD_YEAR', 'TRADER_ID', 'CUSTOMER_TYPE_encoded', 'BLACK_FORX_FLAG']]\r\n",
        "\r\n",
        "\r\n",
        "\r\n",
        "\r\n",
        "X_train , X_test , y_train,y_test = train_test_split(data_df,data_df[\"SOLD_PRICE\"],test_size=0.2, random_state=42, stratify=data_df[[\"STATUS\",\"MATERIAL_NR\"]])\r\n",
        "\r\n",
        "   \r\n",
        "    #input_model = ['OPERATING_HOURS', 'STATUS', 'AGE', 'CONSTRUCTION_YEAR' , \"BLACK_FORX_FLAG\",\"SOLD_COUNTRY_encoded\", \"LEASING_FLAG\",\"KEY_ACCOUNT_FLAG\",\"SOLD_PACKAGE_SIZE_encoded\",'CAPACITY','WHEEL_QT','MAST_HEIGHT',\"MAST_TYPE_encoded\"]\r\n",
        "\r\n",
        "linear_reg = Pipeline([\r\n",
        "    (\"Scaling\", StandardScaler(with_mean=False)),\r\n",
        "    (\"Linear Regression\", LinearRegression())\r\n",
        "])\r\n",
        "\r\n",
        "linear_reg.fit(X_train[features], y_train)\r\n",
        "\r\n",
        "predictions = linear_reg.predict(X_test[features])\r\n",
        "    \r\n",
        "print('Training Done')\r\n",
        "# Rate Model\r\n",
        "X_test['ground_truth'] = y_test\r\n",
        "X_test['predicted'] = predictions\r\n",
        "X_test = calculate_and_log_metrics(X_test, data_name='test')\r\n",
        "result_basic = X_test.copy()"
      ],
      "outputs": [
        {
          "output_type": "stream",
          "name": "stdout",
          "text": "Training Done\n"
        }
      ],
      "execution_count": 5,
      "metadata": {
        "jupyter": {
          "source_hidden": false,
          "outputs_hidden": false
        },
        "nteract": {
          "transient": {
            "deleting": false
          }
        },
        "gather": {
          "logged": 1651572177027
        }
      }
    },
    {
      "cell_type": "code",
      "source": [
        "from sklearn.tree import DecisionTreeRegressor\r\n",
        "\r\n",
        "data_df = data_df[data_df[\"CUSTOMER_TYPE\"] == \"End-Customer\"]\r\n",
        "data_df = data_df[data_df[\"STATUS\"] > 1]\r\n",
        "data_df = data_df[data_df[\"SOLD_PRICE\"] > 100]\r\n",
        "    \r\n",
        "data_df = reduce_feature_values(data_df,column=\"SOLD_COUNTRY\", number_of_feature_values=10)\r\n",
        "\r\n",
        "    \r\n",
        "features = ['OPERATING_HOURS', 'STATUS', 'AGE', 'CONSTRUCTION_YEAR' , \"BLACK_FORX_FLAG\",\"SOLD_COUNTRY\", \"LEASING_FLAG\",\"KEY_ACCOUNT_FLAG\",\"SOLD_PACKAGE_SIZE\",'CAPACITY','WHEEL_QT','MAST_HEIGHT',\"MAST_TYPE\",\"MATERIAL_NR\"]\r\n",
        "\r\n",
        "data_df, features = one_hot_encode_feature(data_df, 'MAST_TYPE', features)\r\n",
        "data_df, features = one_hot_encode_feature(data_df, 'SOLD_COUNTRY', features)\r\n",
        "data_df, features = one_hot_encode_feature(data_df, 'SOLD_PACKAGE_SIZE', features)\r\n",
        "data_df, features = one_hot_encode_feature(data_df, 'MATERIAL_NR', features)\r\n",
        "\r\n",
        "\r\n",
        "features = [x for x in features if x not in ['SOLD_YEAR', 'TRADER_ID', 'CUSTOMER_TYPE_encoded', 'BLACK_FORX_FLAG']]\r\n",
        "\r\n",
        "X_train , X_test , y_train,y_test = train_test_split(data_df,data_df[\"SOLD_PRICE\"],test_size=0.2, random_state=42, stratify=data_df[[\"STATUS\",\"MATERIAL_NR\"]])\r\n",
        "\r\n",
        "\r\n",
        "\r\n",
        "     \r\n",
        "dt = DecisionTreeRegressor(random_state=0)\r\n",
        "\r\n",
        "\r\n",
        "dt.fit(X_train[features], y_train)\r\n",
        "\r\n",
        "predictions = dt.predict(X_test[features])\r\n",
        "\r\n",
        "X_test['ground_truth'] = y_test\r\n",
        "X_test['predicted'] = predictions\r\n",
        "X_test = calculate_and_log_metrics(X_test, data_name='test')\r\n",
        "result_dt = X_test.copy()\r\n"
      ],
      "outputs": [
        {
          "output_type": "stream",
          "name": "stderr",
          "text": "/anaconda/envs/azureml_py36/lib/python3.6/site-packages/ipykernel_launcher.py:32: SettingWithCopyWarning: \nA value is trying to be set on a copy of a slice from a DataFrame.\nTry using .loc[row_indexer,col_indexer] = value instead\n\nSee the caveats in the documentation: http://pandas.pydata.org/pandas-docs/stable/user_guide/indexing.html#returning-a-view-versus-a-copy\n/anaconda/envs/azureml_py36/lib/python3.6/site-packages/ipykernel_launcher.py:33: SettingWithCopyWarning: \nA value is trying to be set on a copy of a slice from a DataFrame.\nTry using .loc[row_indexer,col_indexer] = value instead\n\nSee the caveats in the documentation: http://pandas.pydata.org/pandas-docs/stable/user_guide/indexing.html#returning-a-view-versus-a-copy\n/anaconda/envs/azureml_py36/lib/python3.6/site-packages/ipykernel_launcher.py:2: SettingWithCopyWarning: \nA value is trying to be set on a copy of a slice from a DataFrame.\nTry using .loc[row_indexer,col_indexer] = value instead\n\nSee the caveats in the documentation: http://pandas.pydata.org/pandas-docs/stable/user_guide/indexing.html#returning-a-view-versus-a-copy\n  \n"
        }
      ],
      "execution_count": 6,
      "metadata": {
        "jupyter": {
          "source_hidden": false,
          "outputs_hidden": false
        },
        "nteract": {
          "transient": {
            "deleting": false
          }
        },
        "gather": {
          "logged": 1651572179193
        }
      }
    },
    {
      "cell_type": "code",
      "source": [
        "data_df = data_df[data_df[\"CUSTOMER_TYPE\"] == \"End-Customer\"]\r\n",
        "data_df = data_df[data_df[\"STATUS\"] > 1]\r\n",
        "data_df = data_df[data_df[\"SOLD_PRICE\"] > 100]\r\n",
        "    \r\n",
        "data_df = reduce_feature_values(data_df,column=\"SOLD_COUNTRY\", number_of_feature_values=10)\r\n",
        "\r\n",
        "    \r\n",
        "features = ['OPERATING_HOURS', 'STATUS', 'AGE', 'CONSTRUCTION_YEAR' , \"BLACK_FORX_FLAG\",\"SOLD_COUNTRY\", \"LEASING_FLAG\",\"KEY_ACCOUNT_FLAG\",\"SOLD_PACKAGE_SIZE\",'CAPACITY','WHEEL_QT','MAST_HEIGHT',\"MAST_TYPE\",\"MATERIAL_NR\"]\r\n",
        "\r\n",
        "data_df, features = one_hot_encode_feature(data_df, 'MAST_TYPE', features)\r\n",
        "data_df, features = one_hot_encode_feature(data_df, 'SOLD_COUNTRY', features)\r\n",
        "data_df, features = one_hot_encode_feature(data_df, 'SOLD_PACKAGE_SIZE', features)\r\n",
        "data_df, features = one_hot_encode_feature(data_df, 'MATERIAL_NR', features)\r\n",
        "\r\n",
        "\r\n",
        "features = [x for x in features if x not in ['SOLD_YEAR', 'TRADER_ID', 'CUSTOMER_TYPE_encoded', 'BLACK_FORX_FLAG']]\r\n",
        "    \r\n",
        "    \r\n",
        "X_train , X_test , y_train,y_test = train_test_split(data_df,data_df[\"SOLD_PRICE\"],test_size=0.2, random_state=42, stratify=data_df[[\"STATUS\",\"MATERIAL_NR\"]])\r\n",
        "\r\n",
        "\r\n",
        "\r\n",
        "     \r\n",
        "rfr = RandomForestRegressor(random_state=42)\r\n",
        "\r\n",
        "rfr.fit(X_train[features], y_train)\r\n",
        "predictions = rfr.predict(X_test[features])\r\n",
        "    \r\n",
        "\r\n",
        "X_test['ground_truth'] = y_test\r\n",
        "X_test['predicted'] = predictions\r\n",
        "X_test = calculate_and_log_metrics(X_test, data_name='test')\r\n",
        "\r\n",
        "results_rfr = X_test.copy()\r\n"
      ],
      "outputs": [
        {
          "output_type": "stream",
          "name": "stderr",
          "text": "/anaconda/envs/azureml_py36/lib/python3.6/site-packages/ipykernel_launcher.py:30: SettingWithCopyWarning: \nA value is trying to be set on a copy of a slice from a DataFrame.\nTry using .loc[row_indexer,col_indexer] = value instead\n\nSee the caveats in the documentation: http://pandas.pydata.org/pandas-docs/stable/user_guide/indexing.html#returning-a-view-versus-a-copy\n/anaconda/envs/azureml_py36/lib/python3.6/site-packages/ipykernel_launcher.py:31: SettingWithCopyWarning: \nA value is trying to be set on a copy of a slice from a DataFrame.\nTry using .loc[row_indexer,col_indexer] = value instead\n\nSee the caveats in the documentation: http://pandas.pydata.org/pandas-docs/stable/user_guide/indexing.html#returning-a-view-versus-a-copy\n/anaconda/envs/azureml_py36/lib/python3.6/site-packages/ipykernel_launcher.py:2: SettingWithCopyWarning: \nA value is trying to be set on a copy of a slice from a DataFrame.\nTry using .loc[row_indexer,col_indexer] = value instead\n\nSee the caveats in the documentation: http://pandas.pydata.org/pandas-docs/stable/user_guide/indexing.html#returning-a-view-versus-a-copy\n  \n"
        }
      ],
      "execution_count": 7,
      "metadata": {
        "jupyter": {
          "source_hidden": false,
          "outputs_hidden": false
        },
        "nteract": {
          "transient": {
            "deleting": false
          }
        },
        "gather": {
          "logged": 1651572181309
        }
      }
    },
    {
      "cell_type": "code",
      "source": [
        "import xgboost as xgb\r\n",
        "\r\n",
        "def median_rel_error_metric(predt, dtrain):\r\n",
        "    ''' Root mean squared log error metric.'''\r\n",
        "    y = dtrain.get_label()\r\n",
        "    success_rate = np.median((np.abs(predt-y) / y))\r\n",
        "    return 'median_rel_error', success_rate\r\n",
        "\r\n",
        "features = ['OPERATING_HOURS', 'STATUS', 'AGE', 'CONSTRUCTION_YEAR' , \"BLACK_FORX_FLAG\",\"SOLD_COUNTRY\", \"LEASING_FLAG\",\"KEY_ACCOUNT_FLAG\",\"SOLD_PACKAGE_SIZE\",'CAPACITY','WHEEL_QT','MAST_HEIGHT',\"MAST_TYPE\",\"MATERIAL_NR\"]\r\n",
        "\r\n",
        "data_df, features = one_hot_encode_feature(data_df, 'MAST_TYPE', features)\r\n",
        "data_df, features = one_hot_encode_feature(data_df, 'SOLD_COUNTRY', features)\r\n",
        "data_df, features = one_hot_encode_feature(data_df, 'SOLD_PACKAGE_SIZE', features)\r\n",
        "data_df, features = one_hot_encode_feature(data_df, 'MATERIAL_NR', features)\r\n",
        "\r\n",
        "\r\n",
        "features = [x for x in features if x not in ['SOLD_YEAR', 'TRADER_ID', 'CUSTOMER_TYPE_encoded', 'BLACK_FORX_FLAG']]\r\n",
        "    \r\n",
        "X_train , X_test , y_train,y_test = train_test_split(data_df,data_df[[\"STATUS\",\"SOLD_PRICE\"]],test_size=0.2, random_state=42, stratify=data_df[[\"STATUS\",\"MATERIAL_NR\"]])\r\n",
        "\r\n",
        "     \r\n",
        "progress = {}\r\n",
        "train_dmatrix = xgb.DMatrix(data=X_train[features], label=y_train[\"SOLD_PRICE\"])\r\n",
        "test_dmatrix = xgb.DMatrix(data=X_test[features], label=y_test[\"SOLD_PRICE\"])\r\n",
        "model = xgb.train({'tree_method': 'hist',\r\n",
        "        'disable_default_eval_metric': 1},\r\n",
        "        dtrain=train_dmatrix,\r\n",
        "        feval = median_rel_error_metric,\r\n",
        "        #early_stopping_rounds = 10,\r\n",
        "        #num_boost_round=400,\r\n",
        "        evals=[(train_dmatrix, 'dtrain'), (test_dmatrix, 'dtest')],\r\n",
        "        evals_result=progress\r\n",
        "    )\r\n",
        "\r\n",
        "predictions = model.predict(test_dmatrix)\r\n",
        "X_test['ground_truth'] = y_test[\"SOLD_PRICE\"]\r\n",
        "X_test['predicted'] = predictions\r\n",
        "X_test = calculate_and_log_metrics(X_test, data_name='test')\r\n",
        "results_xgb = X_test.copy()"
      ],
      "outputs": [
        {
          "output_type": "stream",
          "name": "stdout",
          "text": "[0]\tdtrain-median_rel_error:0.697125\tdtest-median_rel_error:0.699312\n[1]\tdtrain-median_rel_error:0.491753\tdtest-median_rel_error:0.493247\n[2]\tdtrain-median_rel_error:0.350217\tdtest-median_rel_error:0.353218\n[3]\tdtrain-median_rel_error:0.259771\tdtest-median_rel_error:0.266911\n[4]\tdtrain-median_rel_error:0.202688\tdtest-median_rel_error:0.211766\n[5]\tdtrain-median_rel_error:0.170097\tdtest-median_rel_error:0.181608\n[6]\tdtrain-median_rel_error:0.149108\tdtest-median_rel_error:0.16418\n[7]\tdtrain-median_rel_error:0.13809\tdtest-median_rel_error:0.152898\n[8]\tdtrain-median_rel_error:0.133822\tdtest-median_rel_error:0.145769\n[9]\tdtrain-median_rel_error:0.128765\tdtest-median_rel_error:0.145069\n"
        }
      ],
      "execution_count": 8,
      "metadata": {
        "jupyter": {
          "source_hidden": false,
          "outputs_hidden": false
        },
        "nteract": {
          "transient": {
            "deleting": false
          }
        },
        "gather": {
          "logged": 1651572188804
        }
      }
    },
    {
      "cell_type": "code",
      "source": [
        "import xgboost as xgb\r\n",
        "\r\n",
        "def median_rel_error_metric(predt, dtrain):\r\n",
        "    ''' Root mean squared log error metric.'''\r\n",
        "    y = dtrain.get_label()\r\n",
        "    success_rate = np.median((np.abs(predt-y) / y))\r\n",
        "    return 'median_rel_error', success_rate\r\n",
        "\r\n",
        "features = ['OPERATING_HOURS', 'STATUS', 'AGE', 'CONSTRUCTION_YEAR' , \"BLACK_FORX_FLAG\",\"SOLD_COUNTRY\", \"LEASING_FLAG\",\"KEY_ACCOUNT_FLAG\",\"SOLD_PACKAGE_SIZE\",'CAPACITY','WHEEL_QT','MAST_HEIGHT',\"MAST_TYPE\",\"MATERIAL_NR\"]\r\n",
        "\r\n",
        "data_df, features = one_hot_encode_feature(data_df, 'MAST_TYPE', features)\r\n",
        "data_df, features = one_hot_encode_feature(data_df, 'SOLD_COUNTRY', features)\r\n",
        "data_df, features = one_hot_encode_feature(data_df, 'SOLD_PACKAGE_SIZE', features)\r\n",
        "data_df, features = one_hot_encode_feature(data_df, 'MATERIAL_NR', features)\r\n",
        "\r\n",
        "\r\n",
        "features = [x for x in features if x not in ['SOLD_YEAR', 'TRADER_ID', 'CUSTOMER_TYPE_encoded', 'BLACK_FORX_FLAG']]\r\n",
        "    \r\n",
        "X_train , X_test , y_train,y_test = train_test_split(data_df,data_df[[\"STATUS\",\"SOLD_PRICE\"]],test_size=0.2, random_state=42, stratify=data_df[[\"STATUS\",\"MATERIAL_NR\"]])\r\n",
        "\r\n",
        "     \r\n",
        "progress = {}\r\n",
        "train_dmatrix_second = xgb.DMatrix(data=X_train[features], label=y_train[\"SOLD_PRICE\"])\r\n",
        "test_dmatrix_second  = xgb.DMatrix(data=X_test[features], label=y_test[\"SOLD_PRICE\"])\r\n",
        "model_second = xgb.train({'tree_method': 'hist',\r\n",
        "        'disable_default_eval_metric': 1},\r\n",
        "        dtrain=train_dmatrix_second ,\r\n",
        "        feval = median_rel_error_metric,\r\n",
        "        early_stopping_rounds = 10,\r\n",
        "        num_boost_round=100,\r\n",
        "        evals=[(train_dmatrix_second , 'dtrain'), (test_dmatrix_second , 'dtest')],\r\n",
        "        evals_result=progress\r\n",
        "    )\r\n",
        "\r\n",
        "predictions = model_second.predict(test_dmatrix_second )\r\n",
        "X_test['ground_truth'] = y_test[\"SOLD_PRICE\"]\r\n",
        "X_test['predicted'] = predictions\r\n",
        "X_test = calculate_and_log_metrics(X_test, data_name='test')\r\n",
        "results_xgb_early = X_test.copy()"
      ],
      "outputs": [
        {
          "output_type": "stream",
          "name": "stdout",
          "text": "[0]\tdtrain-median_rel_error:0.697125\tdtest-median_rel_error:0.699312\nMultiple eval metrics have been passed: 'dtest-median_rel_error' will be used for early stopping.\n\nWill train until dtest-median_rel_error hasn't improved in 10 rounds.\n[1]\tdtrain-median_rel_error:0.491753\tdtest-median_rel_error:0.493247\n[2]\tdtrain-median_rel_error:0.350217\tdtest-median_rel_error:0.353218\n[3]\tdtrain-median_rel_error:0.259771\tdtest-median_rel_error:0.266911\n[4]\tdtrain-median_rel_error:0.202688\tdtest-median_rel_error:0.211766\n[5]\tdtrain-median_rel_error:0.170097\tdtest-median_rel_error:0.181608\n[6]\tdtrain-median_rel_error:0.149108\tdtest-median_rel_error:0.16418\n[7]\tdtrain-median_rel_error:0.13809\tdtest-median_rel_error:0.152898\n[8]\tdtrain-median_rel_error:0.133822\tdtest-median_rel_error:0.145769\n[9]\tdtrain-median_rel_error:0.128765\tdtest-median_rel_error:0.145069\n[10]\tdtrain-median_rel_error:0.126491\tdtest-median_rel_error:0.143677\n[11]\tdtrain-median_rel_error:0.126317\tdtest-median_rel_error:0.143989\n[12]\tdtrain-median_rel_error:0.123333\tdtest-median_rel_error:0.143822\n[13]\tdtrain-median_rel_error:0.123109\tdtest-median_rel_error:0.142824\n[14]\tdtrain-median_rel_error:0.122214\tdtest-median_rel_error:0.143064\n[15]\tdtrain-median_rel_error:0.121926\tdtest-median_rel_error:0.141392\n[16]\tdtrain-median_rel_error:0.121844\tdtest-median_rel_error:0.141817\n[17]\tdtrain-median_rel_error:0.120406\tdtest-median_rel_error:0.14094\n[18]\tdtrain-median_rel_error:0.119875\tdtest-median_rel_error:0.142018\n[19]\tdtrain-median_rel_error:0.11885\tdtest-median_rel_error:0.141747\n[20]\tdtrain-median_rel_error:0.119307\tdtest-median_rel_error:0.142007\n[21]\tdtrain-median_rel_error:0.118703\tdtest-median_rel_error:0.142095\n[22]\tdtrain-median_rel_error:0.117569\tdtest-median_rel_error:0.140052\n[23]\tdtrain-median_rel_error:0.117163\tdtest-median_rel_error:0.141625\n[24]\tdtrain-median_rel_error:0.116948\tdtest-median_rel_error:0.140969\n[25]\tdtrain-median_rel_error:0.11587\tdtest-median_rel_error:0.141271\n[26]\tdtrain-median_rel_error:0.115633\tdtest-median_rel_error:0.142024\n[27]\tdtrain-median_rel_error:0.114985\tdtest-median_rel_error:0.141395\n[28]\tdtrain-median_rel_error:0.114483\tdtest-median_rel_error:0.14203\n[29]\tdtrain-median_rel_error:0.114125\tdtest-median_rel_error:0.14235\n[30]\tdtrain-median_rel_error:0.113413\tdtest-median_rel_error:0.142799\n[31]\tdtrain-median_rel_error:0.112876\tdtest-median_rel_error:0.142784\n[32]\tdtrain-median_rel_error:0.112491\tdtest-median_rel_error:0.143597\nStopping. Best iteration:\n[22]\tdtrain-median_rel_error:0.117569\tdtest-median_rel_error:0.140052\n\n"
        },
        {
          "output_type": "stream",
          "name": "stderr",
          "text": "/anaconda/envs/azureml_py36/lib/python3.6/site-packages/xgboost/core.py:587: FutureWarning: Series.base is deprecated and will be removed in a future version\n  if getattr(data, 'base', None) is not None and \\\n/anaconda/envs/azureml_py36/lib/python3.6/site-packages/xgboost/core.py:588: FutureWarning: Series.base is deprecated and will be removed in a future version\n  data.base is not None and isinstance(data, np.ndarray) \\\n/anaconda/envs/azureml_py36/lib/python3.6/site-packages/ipykernel_launcher.py:36: SettingWithCopyWarning: \nA value is trying to be set on a copy of a slice from a DataFrame.\nTry using .loc[row_indexer,col_indexer] = value instead\n\nSee the caveats in the documentation: http://pandas.pydata.org/pandas-docs/stable/user_guide/indexing.html#returning-a-view-versus-a-copy\n/anaconda/envs/azureml_py36/lib/python3.6/site-packages/ipykernel_launcher.py:37: SettingWithCopyWarning: \nA value is trying to be set on a copy of a slice from a DataFrame.\nTry using .loc[row_indexer,col_indexer] = value instead\n\nSee the caveats in the documentation: http://pandas.pydata.org/pandas-docs/stable/user_guide/indexing.html#returning-a-view-versus-a-copy\n/anaconda/envs/azureml_py36/lib/python3.6/site-packages/ipykernel_launcher.py:2: SettingWithCopyWarning: \nA value is trying to be set on a copy of a slice from a DataFrame.\nTry using .loc[row_indexer,col_indexer] = value instead\n\nSee the caveats in the documentation: http://pandas.pydata.org/pandas-docs/stable/user_guide/indexing.html#returning-a-view-versus-a-copy\n  \n"
        }
      ],
      "execution_count": 9,
      "metadata": {
        "jupyter": {
          "source_hidden": false,
          "outputs_hidden": false
        },
        "nteract": {
          "transient": {
            "deleting": false
          }
        },
        "gather": {
          "logged": 1651572210255
        }
      }
    },
    {
      "cell_type": "code",
      "source": [
        "import seaborn as sns\r\n",
        "import matplotlib.pyplot as plt\r\n",
        "sns.set()\r\n",
        "plt.figure(figsize=(12, 6), dpi=80)\r\n",
        "bins = np.arange(0, 1, 0.005)\r\n",
        "sns.histplot(result_baseline.query('error < 1.0').error, label='Baseline', element='step', stat='percent', fill=False, bins=bins, cumulative=True)\r\n",
        "sns.histplot(result_basic.query('error < 1.0').error, label='Lineare Regression', element='step', stat='percent', fill=False, color='orange', bins=bins, cumulative=True)\r\n",
        "sns.histplot(results_xgb.query('error < 1.0').error, label='Gradient Boosting', element='step', stat='percent', fill=False, color='red', bins=bins, cumulative=True)\r\n",
        "sns.histplot(results_rfr.query('error < 1.0').error, label='Random Forest', element='step', stat='percent', fill=False, color='green', bins=bins, cumulative=True)\r\n",
        "sns.histplot(result_dt.query('error < 1.0').error, label='Decision Tree', element='step', stat='percent', fill=False, color='purple', bins=bins, cumulative=True)\r\n",
        "sns.histplot(results_xgb_early.query('error < 1.0').error, label='Gradient Boosting Early Stopping', element='step', stat='percent', fill=False, color='black', bins=bins, cumulative=True)\r\n",
        "\r\n",
        "plt.legend()\r\n",
        "plt.legend()\r\n",
        "plt.style.use('fivethirtyeight')\r\n",
        "plt.ylabel('No. of test data records in Percentage')\r\n",
        "plt.xlabel('Errors')\r\n",
        "plt.xlim([0, 0.4])\r\n",
        "plt.show()"
      ],
      "outputs": [
        {
          "output_type": "display_data",
          "data": {
            "text/plain": "<Figure size 960x480 with 1 Axes>",
            "image/png": "[encoded data removed]"
          },
          "metadata": {}
        }
      ],
      "execution_count": 10,
      "metadata": {
        "jupyter": {
          "source_hidden": false,
          "outputs_hidden": false
        },
        "nteract": {
          "transient": {
            "deleting": false
          }
        },
        "gather": {
          "logged": 1651572212419
        }
      }
    },
    {
      "cell_type": "code",
      "source": [
        "data_df = data_df[data_df[\"CUSTOMER_TYPE\"] == \"End-Customer\"]\r\n",
        "data_df = data_df[data_df[\"STATUS\"] > 1]\r\n",
        "data_df = data_df[data_df[\"SOLD_PRICE\"] > 100]\r\n",
        "    \r\n",
        "data_df = reduce_feature_values(data_df,column=\"SOLD_COUNTRY\", number_of_feature_values=10)\r\n",
        "\r\n",
        "    \r\n",
        "features = ['OPERATING_HOURS', 'STATUS', 'AGE', 'CONSTRUCTION_YEAR' , \"BLACK_FORX_FLAG\",\"SOLD_COUNTRY\", \"LEASING_FLAG\",\"KEY_ACCOUNT_FLAG\",\"SOLD_PACKAGE_SIZE\",'CAPACITY','WHEEL_QT','MAST_HEIGHT',\"MAST_TYPE\",\"MATERIAL_NR\"]\r\n",
        "\r\n",
        "data_df, features = one_hot_encode_feature(data_df, 'MAST_TYPE', features)\r\n",
        "data_df, features = one_hot_encode_feature(data_df, 'SOLD_COUNTRY', features)\r\n",
        "data_df, features = one_hot_encode_feature(data_df, 'SOLD_PACKAGE_SIZE', features)\r\n",
        "data_df, features = one_hot_encode_feature(data_df, 'MATERIAL_NR', features)\r\n",
        "\r\n",
        "\r\n",
        "features = [x for x in features if x not in ['SOLD_YEAR', 'TRADER_ID', 'CUSTOMER_TYPE_encoded', 'BLACK_FORX_FLAG']]\r\n",
        "    \r\n",
        "    \r\n",
        "X_train , X_test , y_train,y_test = train_test_split(data_df,data_df[\"SOLD_PRICE\"],test_size=0.2, random_state=42, stratify=data_df[[\"STATUS\",\"MATERIAL_NR\"]])\r\n",
        "\r\n",
        "\r\n",
        "\r\n",
        "     \r\n",
        "rfr = RandomForestRegressor(random_state=42,max_depth=32,max_features=0.6,min_samples_split=5,n_estimators=200)\r\n",
        "\r\n",
        "rfr.fit(X_train[features], y_train)\r\n",
        "predictions = rfr.predict(X_test[features])\r\n",
        "    \r\n",
        "\r\n",
        "X_test['ground_truth'] = y_test\r\n",
        "X_test['predicted'] = predictions\r\n",
        "X_test = calculate_and_log_metrics(X_test, data_name='test')\r\n",
        "\r\n",
        "results_rfr_hyp = X_test.copy()"
      ],
      "outputs": [
        {
          "output_type": "stream",
          "name": "stderr",
          "text": "/anaconda/envs/azureml_py36/lib/python3.6/site-packages/ipykernel_launcher.py:30: SettingWithCopyWarning: \nA value is trying to be set on a copy of a slice from a DataFrame.\nTry using .loc[row_indexer,col_indexer] = value instead\n\nSee the caveats in the documentation: http://pandas.pydata.org/pandas-docs/stable/user_guide/indexing.html#returning-a-view-versus-a-copy\n/anaconda/envs/azureml_py36/lib/python3.6/site-packages/ipykernel_launcher.py:31: SettingWithCopyWarning: \nA value is trying to be set on a copy of a slice from a DataFrame.\nTry using .loc[row_indexer,col_indexer] = value instead\n\nSee the caveats in the documentation: http://pandas.pydata.org/pandas-docs/stable/user_guide/indexing.html#returning-a-view-versus-a-copy\n/anaconda/envs/azureml_py36/lib/python3.6/site-packages/ipykernel_launcher.py:2: SettingWithCopyWarning: \nA value is trying to be set on a copy of a slice from a DataFrame.\nTry using .loc[row_indexer,col_indexer] = value instead\n\nSee the caveats in the documentation: http://pandas.pydata.org/pandas-docs/stable/user_guide/indexing.html#returning-a-view-versus-a-copy\n  \n"
        }
      ],
      "execution_count": 11,
      "metadata": {
        "jupyter": {
          "source_hidden": false,
          "outputs_hidden": false
        },
        "nteract": {
          "transient": {
            "deleting": false
          }
        },
        "gather": {
          "logged": 1651572214488
        }
      }
    },
    {
      "cell_type": "code",
      "source": [
        "sns.set()\r\n",
        "plt.figure(figsize=(12, 6), dpi=80)\r\n",
        "bins = np.arange(0, 1, 0.005)\r\n",
        "sns.histplot(results_rfr_hyp.query('error < 1.0').error, label='Tuned Random Forest', element='step', stat='percent', fill=False, color='blue', bins=bins, cumulative=True)\r\n",
        "sns.histplot(results_rfr.query('error < 1.0').error, label='Random Forest', element='step', stat='percent', fill=False, color='green', bins=bins, cumulative=True)\r\n",
        "plt.legend()\r\n",
        "plt.legend()\r\n",
        "plt.style.use('fivethirtyeight')\r\n",
        "plt.ylabel('No. of test data records in Percentage')\r\n",
        "plt.xlabel('Errors')\r\n",
        "plt.xlim([0, 0.4])\r\n",
        "plt.show()"
      ],
      "outputs": [
        {
          "output_type": "display_data",
          "data": {
            "text/plain": "<Figure size 960x480 with 1 Axes>",
            "image/png": "[encoded data removed]"
          },
          "metadata": {}
        }
      ],
      "execution_count": 12,
      "metadata": {
        "jupyter": {
          "source_hidden": false,
          "outputs_hidden": false
        },
        "nteract": {
          "transient": {
            "deleting": false
          }
        },
        "gather": {
          "logged": 1651572216670
        }
      }
    }
  ],
  "metadata": {
    "kernelspec": {
      "name": "python3-azureml",
      "language": "python",
      "display_name": "Python 3.6 - AzureML"
    },
    "language_info": {
      "name": "python",
      "version": "3.6.9",
      "mimetype": "text/x-python",
      "codemirror_mode": {
        "name": "ipython",
        "version": 3
      },
      "pygments_lexer": "ipython3",
      "nbconvert_exporter": "python",
      "file_extension": ".py"
    },
    "kernel_info": {
      "name": "python3-azureml"
    },
    "microsoft": {
      "host": {
        "AzureML": {
          "notebookHasBeenCompleted": true
        }
      }
    },
    "nteract": {
      "version": "nteract-front-end@1.0.0"
    }
  },
  "nbformat": 4,
  "nbformat_minor": 2
}