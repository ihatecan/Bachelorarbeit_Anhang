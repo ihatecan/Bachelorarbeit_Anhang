{
  "cells": [
    {
      "cell_type": "code",
      "source": [
        "# azureml-core of version 1.0.72 or higher is required\r\n",
        "# azureml-dataprep[pandas] of version 1.1.34 or higher is required\r\n",
        "from azureml.core import Workspace, Dataset\r\n",
        "from sklearn.model_selection import train_test_split\r\n",
        "from sklearn import preprocessing\r\n",
        "from azureml.core import Workspace, Dataset\r\n",
        "from azureml.core import Run\r\n",
        "import numpy as np\r\n",
        "import pandas as pd\r\n",
        "from sklearn.preprocessing import OneHotEncoder\r\n",
        "from sklearn.pipeline import Pipeline\r\n",
        "from sklearn.ensemble import RandomForestRegressor\r\n",
        "\r\n",
        "subscription_id = 'ac5709b8-dd2b-46e3-98ae-bf53155e0e80'\r\n",
        "resource_group = 'nereva_rg'\r\n",
        "workspace_name = 'e2r2s14mls0004'\r\n",
        "\r\n",
        "workspace = Workspace(subscription_id, resource_group, workspace_name)\r\n",
        "\r\n",
        "dataset = Dataset.get_by_name(workspace, name='rx20_all_models')\r\n",
        "data_df = dataset.to_pandas_dataframe()\r\n"
      ],
      "outputs": [],
      "execution_count": 1,
      "metadata": {
        "gather": {
          "logged": 1651587323154
        }
      }
    },
    {
      "cell_type": "code",
      "source": [
        "def reduce_feature_values(data_df, column, number_of_feature_values):\r\n",
        "\r\n",
        "   all_features = data_df[column].value_counts().index\r\n",
        "\r\n",
        "   data_df[column] = np.where(data_df[column].isin(all_features[0:min(len(all_features), number_of_feature_values)]), data_df[column], 'other')\r\n",
        "\r\n",
        "   return data_df\r\n",
        "\r\n",
        "\r\n",
        "def one_hot_encode_feature(df, feature_name, feature_list):\r\n",
        "    ohe = OneHotEncoder()\r\n",
        "    transformed = ohe.fit_transform(df[[feature_name]])\r\n",
        "    df[[feature_name + '_' + x for x in ohe.categories_[0]]] = pd.DataFrame(transformed.toarray(),  index=df.index)\r\n",
        "    feature_list += [feature_name + '_' + x for x in ohe.categories_[0]]\r\n",
        "    feature_list = [x for x in feature_list if x != feature_name]\r\n",
        "    feature_list = [x for x in feature_list if x != feature_name+'_encoded']\r\n",
        "    return df, feature_list"
      ],
      "outputs": [],
      "execution_count": 2,
      "metadata": {
        "jupyter": {
          "source_hidden": false,
          "outputs_hidden": false
        },
        "nteract": {
          "transient": {
            "deleting": false
          }
        },
        "gather": {
          "logged": 1651587324228
        }
      }
    },
    {
      "cell_type": "code",
      "source": [
        "data_df = dataset.to_pandas_dataframe()\r\n",
        "\r\n",
        "data_df = data_df[data_df[\"CUSTOMER_TYPE\"] == \"End-Customer\"]\r\n",
        "data_df = data_df[data_df[\"STATUS\"] > 1]\r\n",
        "data_df = data_df[data_df[\"SOLD_PRICE\"] > 100]\r\n",
        "    \r\n",
        "data_df = reduce_feature_values(data_df,column=\"SOLD_COUNTRY\", number_of_feature_values=10)\r\n",
        "\r\n",
        "    \r\n",
        "features = ['OPERATING_HOURS', 'STATUS', 'AGE', 'CONSTRUCTION_YEAR' , \"BLACK_FORX_FLAG\",\"SOLD_COUNTRY\", \"LEASING_FLAG\",\"KEY_ACCOUNT_FLAG\",\"SOLD_PACKAGE_SIZE\",'CAPACITY','WHEEL_QT','MAST_HEIGHT',\"MAST_TYPE\",\"MATERIAL_NR\"]\r\n",
        "\r\n",
        "data_df, features = one_hot_encode_feature(data_df, 'MAST_TYPE', features)\r\n",
        "data_df, features = one_hot_encode_feature(data_df, 'SOLD_COUNTRY', features)\r\n",
        "data_df, features = one_hot_encode_feature(data_df, 'SOLD_PACKAGE_SIZE', features)\r\n",
        "data_df, features = one_hot_encode_feature(data_df, 'MATERIAL_NR', features)\r\n",
        "\r\n",
        "\r\n",
        "features = [x for x in features if x not in ['SOLD_YEAR', 'TRADER_ID', 'CUSTOMER_TYPE_encoded', 'BLACK_FORX_FLAG']]\r\n",
        "\r\n",
        "X_train , X_test , y_train,y_test = train_test_split(data_df,data_df[[\"SOLD_PRICE\",\"STATUS\"]],test_size=0.2, random_state=42, stratify=data_df[[\"STATUS\",\"MATERIAL_NR\"]])\r\n"
      ],
      "outputs": [],
      "execution_count": 3,
      "metadata": {
        "jupyter": {
          "source_hidden": false,
          "outputs_hidden": false
        },
        "nteract": {
          "transient": {
            "deleting": false
          }
        },
        "gather": {
          "logged": 1651587326348
        }
      }
    },
    {
      "cell_type": "code",
      "source": [
        "from sklearn.model_selection import GridSearchCV\r\n",
        "\r\n",
        "parameters = {\r\n",
        "        'n_estimators': [100,150,200],\r\n",
        "        'max_depth': [18,25,32],\r\n",
        "        'max_features': [0.6,0.7,0.8],\r\n",
        "        'min_samples_split': [5,7,9]\r\n",
        "}\r\n",
        "\r\n",
        "rfr = RandomForestRegressor(random_state=42)\r\n",
        "clf = GridSearchCV(estimator=rfr, param_grid=parameters, cv=5)\r\n",
        "\r\n",
        "clf.fit(X_train[features], y_train[\"SOLD_PRICE\"])"
      ],
      "outputs": [
        {
          "output_type": "execute_result",
          "execution_count": 4,
          "data": {
            "text/plain": "GridSearchCV(cv=5, estimator=RandomForestRegressor(random_state=42),\n             param_grid={'max_depth': [18, 25, 32],\n                         'max_features': [0.6, 0.7, 0.8],\n                         'min_samples_split': [5, 7, 9],\n                         'n_estimators': [100, 150, 200]})"
          },
          "metadata": {}
        }
      ],
      "execution_count": 4,
      "metadata": {
        "jupyter": {
          "source_hidden": false,
          "outputs_hidden": false
        },
        "nteract": {
          "transient": {
            "deleting": false
          }
        },
        "gather": {
          "logged": 1651588278773
        }
      }
    },
    {
      "cell_type": "code",
      "source": [
        "print(clf.best_params_)\r\n",
        "print(clf.score(X_train[features], y_train[\"SOLD_PRICE\"]))\r\n",
        "print(clf.score(X_test[features], y_test[\"SOLD_PRICE\"]))"
      ],
      "outputs": [
        {
          "output_type": "stream",
          "name": "stdout",
          "text": "{'max_depth': 25, 'max_features': 0.6, 'min_samples_split': 5, 'n_estimators': 200}\n0.9376630856357344\n0.7277186480842479\n"
        }
      ],
      "execution_count": 5,
      "metadata": {
        "jupyter": {
          "source_hidden": false,
          "outputs_hidden": false
        },
        "nteract": {
          "transient": {
            "deleting": false
          }
        },
        "gather": {
          "logged": 1651588281890
        }
      }
    }
  ],
  "metadata": {
    "kernelspec": {
      "name": "python38-azureml",
      "language": "python",
      "display_name": "Python 3.8 - AzureML"
    },
    "language_info": {
      "name": "python",
      "version": "3.8.1",
      "mimetype": "text/x-python",
      "codemirror_mode": {
        "name": "ipython",
        "version": 3
      },
      "pygments_lexer": "ipython3",
      "nbconvert_exporter": "python",
      "file_extension": ".py"
    },
    "kernel_info": {
      "name": "python38-azureml"
    },
    "nteract": {
      "version": "nteract-front-end@1.0.0"
    },
    "microsoft": {
      "host": {
        "AzureML": {
          "notebookHasBeenCompleted": true
        }
      }
    }
  },
  "nbformat": 4,
  "nbformat_minor": 2
}