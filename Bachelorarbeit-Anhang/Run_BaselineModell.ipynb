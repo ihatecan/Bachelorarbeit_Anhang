{
  "cells": [
    {
      "cell_type": "code",
      "source": [
        "from azureml.core import Workspace\r\n",
        "from azureml.core import Experiment\r\n",
        "from azureml.core import Environment\r\n",
        "from azureml.core import ScriptRunConfig\r\n",
        "from azureml.core import Dataset\r\n",
        "from azureml.train.hyperdrive import RandomParameterSampling, HyperDriveConfig, PrimaryMetricGoal, choice\r\n",
        "\r\n",
        "ws = Workspace.from_config()\r\n",
        "datastore = ws.get_default_datastore()\r\n",
        "experiment = Experiment(workspace=ws, name='BaseLineModel')\r\n",
        "\r\n",
        "workspace = Workspace.from_config()\r\n",
        "\r\n",
        "dataset = Dataset.get_by_name(workspace, name='rx20_all_models',version=\"latest\")\r\n",
        "\r\n",
        "config = ScriptRunConfig(\r\n",
        "        source_directory='./src',\r\n",
        "        script='BaselineModel.py',\r\n",
        "        compute_target='A00238622',\r\n",
        "        arguments=[\r\n",
        "            '--input-data', dataset.as_named_input('rx20_all_models')],\r\n",
        "    )\r\n",
        "\r\n",
        "env = Environment.from_conda_specification(\r\n",
        "        name='sklearn-env',\r\n",
        "        file_path='sklearn-env.yml'\r\n",
        "    )\r\n",
        "\r\n",
        "\r\n",
        "config.run_config.environment = env\r\n",
        "\r\n",
        "run = experiment.submit(config)\r\n",
        "run.display_name = 'BaselineModell'\r\n",
        "aml_url = run.get_portal_url()\r\n",
        "print(\"Submitted to compute cluster. Click link below\")\r\n",
        "print(\"\")\r\n",
        "print(aml_url)"
      ],
      "outputs": [
        {
          "output_type": "stream",
          "name": "stdout",
          "text": "Submitted to compute cluster. Click link below\n\nhttps://ml.azure.com/runs/BaseLineModel_1651417758_7d7af614?wsid=/subscriptions/ac5709b8-dd2b-46e3-98ae-bf53155e0e80/resourcegroups/nereva_rg/workspaces/e2r2s14mls0004&tid=13c728e0-bb0c-4cf7-8e10-5b327279d6d9\n"
        }
      ],
      "execution_count": 1,
      "metadata": {
        "gather": {
          "logged": 1651417764204
        }
      }
    },
    {
      "cell_type": "code",
      "source": [],
      "outputs": [],
      "execution_count": null,
      "metadata": {
        "jupyter": {
          "source_hidden": false,
          "outputs_hidden": false
        },
        "nteract": {
          "transient": {
            "deleting": false
          }
        }
      }
    }
  ],
  "metadata": {
    "kernelspec": {
      "name": "python38-azureml",
      "language": "python",
      "display_name": "Python 3.8 - AzureML"
    },
    "language_info": {
      "name": "python",
      "version": "3.8.1",
      "mimetype": "text/x-python",
      "codemirror_mode": {
        "name": "ipython",
        "version": 3
      },
      "pygments_lexer": "ipython3",
      "nbconvert_exporter": "python",
      "file_extension": ".py"
    },
    "kernel_info": {
      "name": "python38-azureml"
    },
    "nteract": {
      "version": "nteract-front-end@1.0.0"
    },
    "microsoft": {
      "host": {
        "AzureML": {
          "notebookHasBeenCompleted": true
        }
      }
    }
  },
  "nbformat": 4,
  "nbformat_minor": 2
}